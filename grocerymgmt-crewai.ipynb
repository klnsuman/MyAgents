{
 "cells": [
  {
   "cell_type": "code",
   "execution_count": null,
   "id": "365c6e04",
   "metadata": {},
   "outputs": [],
   "source": [
    "# !pip install Markdown==3.7\n",
    "# !pip install crewai==0.80.0\n",
    "# !pip install crewai_tools\n",
    "#!pip install --upgrade crewai"
   ]
  },
  {
   "cell_type": "code",
   "execution_count": 6,
   "id": "edcfdc3b",
   "metadata": {},
   "outputs": [
    {
     "name": "stderr",
     "output_type": "stream",
     "text": [
      "/Users/lrao9/anaconda3/envs/my-llm-env/lib/python3.11/site-packages/pydantic/_internal/_config.py:323: PydanticDeprecatedSince20: Support for class-based `config` is deprecated, use ConfigDict instead. Deprecated in Pydantic V2.0 to be removed in V3.0. See Pydantic V2 Migration Guide at https://errors.pydantic.dev/2.11/migration/\n",
      "  warnings.warn(DEPRECATION_MESSAGE, DeprecationWarning)\n"
     ]
    }
   ],
   "source": [
    "import os\n",
    "from crewai import Agent, Task, Crew\n",
    "from markdown import markdown\n",
    "from crewai_tools import WebsiteSearchTool"
   ]
  },
  {
   "cell_type": "code",
   "execution_count": null,
   "id": "6ef206c2",
   "metadata": {},
   "outputs": [],
   "source": []
  },
  {
   "cell_type": "code",
   "execution_count": null,
   "id": "a6f0a488",
   "metadata": {},
   "outputs": [],
   "source": []
  }
 ],
 "metadata": {
  "kernelspec": {
   "display_name": "my-llm-env",
   "language": "python",
   "name": "python3"
  },
  "language_info": {
   "codemirror_mode": {
    "name": "ipython",
    "version": 3
   },
   "file_extension": ".py",
   "mimetype": "text/x-python",
   "name": "python",
   "nbconvert_exporter": "python",
   "pygments_lexer": "ipython3",
   "version": "3.11.7"
  }
 },
 "nbformat": 4,
 "nbformat_minor": 5
}
